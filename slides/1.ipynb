{
 "cells": [
  {
   "cell_type": "markdown",
   "id": "b467d2e3",
   "metadata": {
    "slideshow": {
     "slide_type": "slide"
    }
   },
   "source": [
    "# What is 'intelligence'?\n",
    "Before we dive into AI & ML, let’s clarify what we mean by “intelligence”."
   ]
  },
  {
   "cell_type": "markdown",
   "id": "13aacb8d",
   "metadata": {
    "slideshow": {
     "slide_type": "subslide"
    }
   },
   "source": [
    "## The year is 1950."
   ]
  },
  {
   "cell_type": "markdown",
   "id": "f74397ba",
   "metadata": {
    "slideshow": {
     "slide_type": "subslide"
    }
   },
   "source": [
    "![The Imitation Game](images/immitation_game.png)"
   ]
  },
  {
   "cell_type": "markdown",
   "id": "985aa3d1",
   "metadata": {
    "slideshow": {
     "slide_type": "subslide"
    }
   },
   "source": [
    "## Immitation Game\n",
    "Imagine 3 persons:\n",
    "- A: a man\n",
    "- B: a women\n",
    "- C: an interrogator\n",
    "\n",
    "A and B are in a room, C is outside. C can ask questions to A and B. C has to guess who is who.\n",
    "Both A and B will try to convince C that they are women.\n",
    "\n",
    "C: Will you please tell me the length of his or her hair? <br>\n",
    "A: My hair is shingled, and the longest strands are about nine inches long. <br>\n",
    "B: I am the woman, don't listen to him!\n",
    "\n",
    "To avoid recognizing the voice, communication is done via text.\n",
    "\n",
    "Now replace A with a computer. Will C decide wrongly as often?"
   ]
  },
  {
   "cell_type": "markdown",
   "id": "c1a3f4ce",
   "metadata": {
    "slideshow": {
     "slide_type": "subslide"
    }
   },
   "source": [
    "## Predictions by Alan Turing"
   ]
  },
  {
   "cell_type": "markdown",
   "id": "4a89be31",
   "metadata": {
    "slideshow": {
     "slide_type": "subslide"
    }
   },
   "source": [
    "![Prediction 1](images/prediction_1.png)"
   ]
  },
  {
   "cell_type": "markdown",
   "id": "dac16c66",
   "metadata": {
    "slideshow": {
     "slide_type": "subslide"
    }
   },
   "source": [
    "![Prediction 2](images/prediction_2.png)"
   ]
  },
  {
   "cell_type": "markdown",
   "id": "769538ff",
   "metadata": {
    "slideshow": {
     "slide_type": "slide"
    }
   },
   "source": [
    "# What is Artificial Intelligence?"
   ]
  },
  {
   "cell_type": "markdown",
   "id": "6aee7188",
   "metadata": {
    "slideshow": {
     "slide_type": "subslide"
    }
   },
   "source": [
    "## The year is 1956.\n",
    "<div style=\"display: flex; align-items: center;\">\n",
    "  <div style=\"flex: 1;\">\n",
    "    <ul>\n",
    "      <li>A six-week summer research project at Dartmouth College.</li>\n",
    "      <li>Organized by John McCarthy, Marvin Minsky, Nathaniel Rochester, and Claude Shannon.</li>\n",
    "      <li>The term \"artificial intelligence\" was coined.</li>\n",
    "    </ul>\n",
    "  </div>\n",
    "  <div style=\"flex: 1; text-align: center;\">\n",
    "    <img src=\"images/darthmouth_conference.webp\" alt=\"Dartmouth Conference\" width=\"300\"/>\n",
    "  </div>\n",
    "</div>"
   ]
  },
  {
   "cell_type": "markdown",
   "id": "4a6d4250",
   "metadata": {
    "slideshow": {
     "slide_type": "subslide"
    }
   },
   "source": [
    "## Early AI Research (1950s-1960s)\n",
    "### Logic Theorist (1955)\n",
    "- It worked backward: Started with the theorem and tried to link it to known facts.\n",
    "- Used rules to change or combine facts, like solving a puzzle step-by-step.\n",
    "- Chose “smart” steps (heuristics) to avoid wasting time on bad paths.\n",
    "- Result: If it found a path, it showed the proof, like “Fact A → Fact B → Theorem.”\n",
    "### Perceptron (1958)\n",
    "- Single layer neural network.\n",
    "- Input: Took numerical data (e.g., pixel values of an image).\n",
    "- Weights: Assigned importance to inputs, adjusted during training.\n",
    "- Summation: Combined weighted inputs and applied a threshold to decide output (e.g., “yes” or “no”).\n",
    "- Learning: Adjusted weights based on errors to improve accuracy."
   ]
  },
  {
   "cell_type": "markdown",
   "id": "fa9e315d",
   "metadata": {
    "slideshow": {
     "slide_type": "subslide"
    }
   },
   "source": [
    "## AI Winter (1960-1990)\n",
    "- Early AI (e.g., symbolic systems like Logic Theorist) promised human-like intelligence but was limited to narrow tasks.\n",
    "- Perceptron hype (1958) faded after Minsky and Papert’s 1969 book Perceptrons showed its limitations.\n",
    "- High costs of computing and slow progress frustrated funders.\n",
    "- Expert systems were expensive to build and maintain, with limited scalability."
   ]
  },
  {
   "cell_type": "markdown",
   "id": "7a8b4eaf",
   "metadata": {
    "slideshow": {
     "slide_type": "subslide"
    }
   },
   "source": [
    "## AI Revival\n",
    "- In 2006, Geoffrey Hinton et al. published a paper⁠ showing how to train a deep neural network capable of recognizing handwritten digits with state-of-the-art precision (>98%).\n",
    "- This paper revived the interest of the scientific community\n",
    "\n",
    "More: [This Canadian Genius Created Modern AI - Bloomberg Originals](https://youtu.be/l9RWTMNnvi4)"
   ]
  },
  {
   "cell_type": "markdown",
   "id": "ab043547",
   "metadata": {
    "slideshow": {
     "slide_type": "slide"
    }
   },
   "source": [
    "# AI vs. ML"
   ]
  },
  {
   "cell_type": "markdown",
   "id": "de953519",
   "metadata": {
    "slideshow": {
     "slide_type": "subslide"
    }
   },
   "source": [
    "## AI\n",
    "**Definition**: The science of creating machines that can perform tasks that typically require human intelligence.\n",
    "\n",
    "AI can be broadly classified in two:\n",
    "\n",
    "  - **Symbolic AI**: Uses rule-based system to make decisions. Just bunch of if-else statements. <br>\n",
    "    **Logic Theorist** is the first AI program.\n",
    "  - **Machine Learning**: Focuses on algorithms that learn from data to make predictions. <br>\n",
    "    **Perceptron** is the first ML program."
   ]
  },
  {
   "cell_type": "markdown",
   "id": "5291b241",
   "metadata": {
    "slideshow": {
     "slide_type": "subslide"
    }
   },
   "source": [
    "## ML\n",
    "It’s like teaching a robot to learn from examples instead of programming every rule.\n",
    "\n",
    "**Example**: You show it 1000 cat/dog pics → it learns to tell them apart.\n",
    "\n",
    "(We will get to the formal definition later)"
   ]
  }
 ],
 "metadata": {
  "kernelspec": {
   "display_name": "venv",
   "language": "python",
   "name": "python3"
  },
  "language_info": {
   "codemirror_mode": {
    "name": "ipython",
    "version": 3
   },
   "file_extension": ".py",
   "mimetype": "text/x-python",
   "name": "python",
   "nbconvert_exporter": "python",
   "pygments_lexer": "ipython3",
   "version": "3.12.3"
  }
 },
 "nbformat": 4,
 "nbformat_minor": 5
}
