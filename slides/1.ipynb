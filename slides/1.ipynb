{
 "cells": [
  {
   "cell_type": "markdown",
   "id": "5291b241",
   "metadata": {
    "slideshow": {
     "slide_type": "slide"
    }
   },
   "source": [
    "# What is ML?\n",
    "It’s like teaching a robot to learn from examples instead of programming every rule.\n",
    "\n",
    "Example: You show it 1000 cat/dog pics → it learns to tell them apart.\n",
    "\n",
    "(We will get to the formal definition later)"
   ]
  },
  {
   "cell_type": "markdown",
   "id": "b467d2e3",
   "metadata": {
    "slideshow": {
     "slide_type": "slide"
    }
   },
   "source": [
    "# What is 'intelligence'?\n",
    "Before we dive into AI & ML, let’s clarify what we mean by “intelligence”."
   ]
  },
  {
   "cell_type": "markdown",
   "id": "13aacb8d",
   "metadata": {
    "slideshow": {
     "slide_type": "subslide"
    }
   },
   "source": [
    "## We are not the first one to ask this question"
   ]
  },
  {
   "cell_type": "markdown",
   "id": "f74397ba",
   "metadata": {
    "slideshow": {
     "slide_type": "subslide"
    }
   },
   "source": [
    "![The Imitation Game](images/immitation_game.png)"
   ]
  },
  {
   "cell_type": "markdown",
   "id": "985aa3d1",
   "metadata": {
    "slideshow": {
     "slide_type": "subslide"
    }
   },
   "source": [
    "## Immitation Game\n",
    "Imagine 3 persons:\n",
    "- A: a man\n",
    "- B: a women\n",
    "- C: an interrogator\n",
    "\n",
    "A and B are in a room, C is outside. C can ask questions to A and B. C has to guess who is who.\n",
    "Both A and B will try to convince C that they are women.\n",
    "\n",
    "C: Will you please tell me the length of his or her hair? <br>\n",
    "A: My hair is shingled, and the longest strands are about nine inches long. <br>\n",
    "B: I am the woman, don't listen to him!\n",
    "\n",
    "To avoid recognizing the voice, communication is done via text.\n",
    "\n",
    "Now replace A with a computer. Will C decide wrongly as often?"
   ]
  },
  {
   "cell_type": "markdown",
   "id": "c1a3f4ce",
   "metadata": {
    "slideshow": {
     "slide_type": "subslide"
    }
   },
   "source": [
    "## Predictions by Alan Turing"
   ]
  },
  {
   "cell_type": "markdown",
   "id": "4a89be31",
   "metadata": {
    "slideshow": {
     "slide_type": "subslide"
    }
   },
   "source": [
    "![Prediction 1](images/prediction_1.png)"
   ]
  },
  {
   "cell_type": "markdown",
   "id": "dac16c66",
   "metadata": {
    "slideshow": {
     "slide_type": "subslide"
    }
   },
   "source": [
    "![Prediction 2](images/prediction_2.png)"
   ]
  },
  {
   "cell_type": "markdown",
   "id": "769538ff",
   "metadata": {},
   "source": []
  }
 ],
 "metadata": {
  "kernelspec": {
   "display_name": "venv",
   "language": "python",
   "name": "python3"
  },
  "language_info": {
   "codemirror_mode": {
    "name": "ipython",
    "version": 3
   },
   "file_extension": ".py",
   "mimetype": "text/x-python",
   "name": "python",
   "nbconvert_exporter": "python",
   "pygments_lexer": "ipython3",
   "version": "3.12.3"
  }
 },
 "nbformat": 4,
 "nbformat_minor": 5
}
