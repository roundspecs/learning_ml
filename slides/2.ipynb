{
 "cells": [
  {
   "cell_type": "markdown",
   "id": "b48b3721",
   "metadata": {
    "slideshow": {
     "slide_type": "slide"
    }
   },
   "source": [
    "# What does it mean for machines to *learn* something?\n",
    "If I download a copy of Wikipedia, has my machine learned something?"
   ]
  },
  {
   "cell_type": "markdown",
   "id": "36a3de2e",
   "metadata": {
    "slideshow": {
     "slide_type": "subslide"
    }
   },
   "source": [
    "![ML Def 1](images/ml_def_1.png)"
   ]
  },
  {
   "cell_type": "markdown",
   "id": "4d2a5836",
   "metadata": {
    "slideshow": {
     "slide_type": "subslide"
    }
   },
   "source": [
    "![ML Def 2](images/ml_def_2.png)"
   ]
  },
  {
   "cell_type": "markdown",
   "id": "95fc9ff3",
   "metadata": {
    "slideshow": {
     "slide_type": "fragment"
    }
   },
   "source": [
    "## Spam Filter\n",
    "T = Classifying new emails into spam or ham (not spam) <br>\n",
    "P = Percentage of correctly classified emails (accuracy) <br>\n",
    "E = Training set (Emails that are already flagged as spam by the user, and emails that were not flagged)"
   ]
  },
  {
   "cell_type": "markdown",
   "id": "568ba987",
   "metadata": {
    "slideshow": {
     "slide_type": "slide"
    }
   },
   "source": [
    "# Traditional vs ML approach\n",
    "Understanding why machine learning is used"
   ]
  },
  {
   "cell_type": "markdown",
   "id": "5d0c72bb",
   "metadata": {
    "slideshow": {
     "slide_type": "subslide"
    }
   },
   "source": [
    "## Spam Filter with traditional approach\n",
    "1. Examine what are the patterns found in a spam email\n",
    "2. Write a long list of if-else statements to detect spams\n",
    "3. Test the program and repeat 1 & 2 until its good enough to launch"
   ]
  },
  {
   "cell_type": "markdown",
   "id": "da28e2f6",
   "metadata": {
    "slideshow": {
     "slide_type": "fragment"
    }
   },
   "source": [
    "## Spam Filter with ML approach\n",
    "1. Automatically learn patterns that are unusually frequent in spams compared to hams\n",
    "2. Classify emails"
   ]
  },
  {
   "cell_type": "markdown",
   "id": "1599fcb0",
   "metadata": {
    "slideshow": {
     "slide_type": "subslide"
    }
   },
   "source": [
    "## Why use ML?\n",
    "- Traditional approach is difficult to maintain: requires a lot of **hand-tuning** and **long list of rules**\n",
    "- What if spammers figure out the patterns that get flagged as spam and start avoiding them? ML can automatically start detecting and **adapt**\n",
    "- Complext problems like speech recognition are just not possible to be solved **at scale** in traditional approach.\n",
    "- ML systems can be inspected to **get insights** about complex problems."
   ]
  }
 ],
 "metadata": {
  "language_info": {
   "name": "python"
  }
 },
 "nbformat": 4,
 "nbformat_minor": 5
}
