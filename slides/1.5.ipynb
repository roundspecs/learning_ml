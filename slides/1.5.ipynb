{
 "cells": [
  {
   "cell_type": "markdown",
   "id": "07b1e771",
   "metadata": {
    "slideshow": {
     "slide_type": "slide"
    }
   },
   "source": [
    "# Testing and Validating"
   ]
  },
  {
   "cell_type": "markdown",
   "id": "af351526",
   "metadata": {
    "slideshow": {
     "slide_type": "slide"
    }
   },
   "source": [
    "# Testing\n",
    "How well is your model generalizing? - The only way to do this is to try it out!"
   ]
  },
  {
   "cell_type": "markdown",
   "id": "90d37d71",
   "metadata": {
    "slideshow": {
     "slide_type": "subslide"
    }
   },
   "source": [
    "## Method 1: Put it in production\n",
    "- Put the model in production\n",
    "- Monitor how well it is doing\n",
    "\n",
    "### Not a good idea\n",
    "If the model performs terribly bad, the users will complain"
   ]
  },
  {
   "cell_type": "markdown",
   "id": "9d2830f5",
   "metadata": {
    "slideshow": {
     "slide_type": "subslide"
    }
   },
   "source": [
    "## Method 2: Split the data\n",
    "Split the data in two:\n",
    "- **Training Set**: Used to train the model\n",
    "- **Test Set**: Used to test how well the model is doing\n",
    "\n",
    "### Generalizing Error\n",
    "The error rate on the Test Set"
   ]
  },
  {
   "cell_type": "markdown",
   "id": "6fd9d86a",
   "metadata": {
    "slideshow": {
     "slide_type": "subslide"
    }
   },
   "source": [
    "## Defining Overfitting\n",
    "If the training error is low but the generalizing error is high <br>\n",
    "![Overfitting](images/overfitting.png)"
   ]
  },
  {
   "cell_type": "markdown",
   "id": "0defa28b",
   "metadata": {
    "slideshow": {
     "slide_type": "slide"
    }
   },
   "source": [
    "# Validating\n",
    "Which model is the best for you dataset?"
   ]
  },
  {
   "cell_type": "markdown",
   "id": "cf5545c4",
   "metadata": {
    "slideshow": {
     "slide_type": "subslide"
    }
   },
   "source": [
    "## Can money buy happiness?\n",
    "Say we have 5 models for predicting happiness from GDP:\n",
    "- Linear Regression\n",
    "- Linear Regression with tuned hyperparameters\n",
    "- 3-Nearest Neighbors (3-NN)\n",
    "- 4-Nearest Neighbors (4-NN)\n",
    "- 5-Nearest Neighbors (5-NN)\n",
    "\n",
    "Which is best? You have to test them!"
   ]
  },
  {
   "cell_type": "markdown",
   "id": "d92d91c4",
   "metadata": {
    "slideshow": {
     "slide_type": "subslide"
    }
   },
   "source": [
    "### Approach 1\n",
    "- Split the dataset in two: ***training set*** and ***test set***\n",
    "- Train all the models on the training set\n",
    "- Find the ***generalization error*** for all the models on the test set:<br>\n",
    "  13%, 5%, 10%, 7%, 9%\n",
    "- Whichever has the ***least*** generalization error is the best model:<br>\n",
    "  Linear regression with hyperparams"
   ]
  },
  {
   "cell_type": "markdown",
   "id": "357f9b98",
   "metadata": {
    "slideshow": {
     "slide_type": "fragment"
    }
   },
   "source": [
    "### Then you put it in production\n",
    "And find out, the error rate is actually 12%<br>\n",
    "What just happened?"
   ]
  },
  {
   "cell_type": "markdown",
   "id": "235d927d",
   "metadata": {},
   "source": [
    "We selected the model that performed best on a particular datatset (test dataset). So, it's unlikely that the model will perform as well with new data"
   ]
  },
  {
   "cell_type": "markdown",
   "id": "2e154bcf",
   "metadata": {},
   "source": [
    "### Approach 2: ***Holdout Vaidation***\n",
    "- Split the dataset in two: ***training set*** and ***test set***\n",
    "- Split the training set in two: ***reduced training set** and ***validation set***\n",
    "- Train all the models on the reduced training set\n",
    "- Find the ***generalization error*** for all the models on the ***validation set***:<br>\n",
    "  13%, 5%, 10%, 7%, 9%\n",
    "- Whichever has the ***least*** generalization error is the best model:<br>\n",
    "  Linear regression with hyperparams\n",
    "- Train the model on the full training set\n",
    "- Test the model on test set: 12% error"
   ]
  },
  {
   "cell_type": "markdown",
   "id": "171b0462",
   "metadata": {
    "vscode": {
     "languageId": "plaintext"
    }
   },
   "source": [
    "### Size of Validation Set\n",
    "- If it's too small: You may end up choosing a sub-optimal model\n",
    "- If it's too large:\n",
    "  - The size of the reduced training set and the full trainig set will be quite different\n",
    "  - So, the initial model (which is tested with validation dataset) and the final model (wich is tested with the test dataset) will be two very different models\n",
    "  "
   ]
  },
  {
   "cell_type": "markdown",
   "id": "9949f7b9",
   "metadata": {},
   "source": [
    "More: https://www.youtube.com/watch?v=fSytzGwwBVw"
   ]
  }
 ],
 "metadata": {
  "kernelspec": {
   "display_name": "venv",
   "language": "python",
   "name": "python3"
  },
  "language_info": {
   "name": "python",
   "version": "3.12.3"
  }
 },
 "nbformat": 4,
 "nbformat_minor": 5
}
