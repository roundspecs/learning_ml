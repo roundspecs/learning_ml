{
 "cells": [
  {
   "cell_type": "markdown",
   "id": "07b1e771",
   "metadata": {
    "slideshow": {
     "slide_type": "slide"
    }
   },
   "source": [
    "# Testing and Validating"
   ]
  },
  {
   "cell_type": "markdown",
   "id": "af351526",
   "metadata": {
    "slideshow": {
     "slide_type": "slide"
    }
   },
   "source": [
    "# Testing\n",
    "How well is your model generalizing? - The only way to do this is to try it out!"
   ]
  },
  {
   "cell_type": "markdown",
   "id": "90d37d71",
   "metadata": {
    "slideshow": {
     "slide_type": "subslide"
    }
   },
   "source": [
    "## Method 1: Put it in production\n",
    "- Put the model in production\n",
    "- Monitor how well it is doing\n",
    "\n",
    "### Not a good idea\n",
    "If the model performs terribly bad, the users will complain"
   ]
  },
  {
   "cell_type": "markdown",
   "id": "9d2830f5",
   "metadata": {
    "slideshow": {
     "slide_type": "subslide"
    }
   },
   "source": [
    "## Method 2: Split the data\n",
    "Split the data in two:\n",
    "- **Training Set**: Used to train the model\n",
    "- **Test Set**: Used to test how well the model is doing\n",
    "\n",
    "### Generalizing Error\n",
    "The error rate on the Test Set"
   ]
  },
  {
   "cell_type": "markdown",
   "id": "6fd9d86a",
   "metadata": {
    "slideshow": {
     "slide_type": "subslide"
    }
   },
   "source": [
    "## Defining Overfitting\n",
    "If the training error is low but the generalizing error is high <br>\n",
    "![Overfitting](images/overfitting.png)"
   ]
  },
  {
   "cell_type": "markdown",
   "id": "0defa28b",
   "metadata": {
    "slideshow": {
     "slide_type": "slide"
    }
   },
   "source": [
    "# Validating\n",
    "Which model is the best for you dataset?"
   ]
  },
  {
   "cell_type": "markdown",
   "id": "cf5545c4",
   "metadata": {
    "slideshow": {
     "slide_type": "subslide"
    }
   },
   "source": [
    "## Can money buy happiness?\n",
    "Say we have 5 models for predicting happiness from GDP:\n",
    "- Linear Regression\n",
    "- Linear Regression with tuned hyperparameters\n",
    "- 3-Nearest Neighbors (3-NN)\n",
    "- 4-Nearest Neighbors (4-NN)\n",
    "- 5-Nearest Neighbors (5-NN)\n",
    "\n",
    "Which is best? You have to test them!"
   ]
  },
  {
   "cell_type": "markdown",
   "id": "d92d91c4",
   "metadata": {
    "slideshow": {
     "slide_type": "subslide"
    }
   },
   "source": [
    "### Approach 1\n",
    "- Split the dataset in two: ***training set*** and ***test set***\n",
    "- Train all the models on the training set\n",
    "- Find the ***generalization error*** for all the models on the test set:<br>\n",
    "  13%, 5%, 10%, 7%, 9%\n",
    "- Whichever has the ***least*** generalization error is the best model:<br>\n",
    "  Linear regression with hyperparams"
   ]
  },
  {
   "cell_type": "markdown",
   "id": "357f9b98",
   "metadata": {
    "slideshow": {
     "slide_type": "fragment"
    }
   },
   "source": [
    "### Then you put it in production\n",
    "And find out, the error rate is actually 12%<br>\n",
    "What just happened?"
   ]
  },
  {
   "cell_type": "markdown",
   "id": "235d927d",
   "metadata": {},
   "source": [
    "We selected the model that performed best on a particular datatset (test dataset). So, it's unlikely that the model will perform as well with new data"
   ]
  },
  {
   "cell_type": "markdown",
   "id": "2e154bcf",
   "metadata": {
    "slideshow": {
     "slide_type": "subslide"
    }
   },
   "source": [
    "### Approach 2: ***Holdout Vaidation***\n",
    "- Split the dataset in two: ***training set*** and ***test set***\n",
    "- Split the training set in two: ***reduced training set** and ***validation set***\n",
    "- Train all the models on the reduced training set\n",
    "- Find the ***generalization error*** for all the models on the ***validation set***:<br>\n",
    "  13%, 5%, 10%, 7%, 9%\n",
    "- Whichever has the ***least*** generalization error is the best model:<br>\n",
    "  Linear regression with hyperparams\n",
    "- Train the model on the full training set\n",
    "- Test the model on test set: 12% error"
   ]
  },
  {
   "cell_type": "markdown",
   "id": "171b0462",
   "metadata": {
    "slideshow": {
     "slide_type": "subslide"
    },
    "vscode": {
     "languageId": "plaintext"
    }
   },
   "source": [
    "## Size of Validation Set\n",
    "- If it's too small: You may end up choosing a sub-optimal model\n",
    "- If it's too large:\n",
    "  - The size of the reduced training set and the full trainig set will be quite different\n",
    "  - So, the initial model (which is tested with validation dataset) and the final model (wich is tested with the test dataset) will be two very different models\n",
    "  - \"It would be like selecting the fastest sprinter for marathon\"\n",
    "\n",
    "Solution in next page"
   ]
  },
  {
   "cell_type": "markdown",
   "id": "ecbe234a",
   "metadata": {
    "slideshow": {
     "slide_type": "subslide"
    }
   },
   "source": [
    "### Cross-validation\n",
    "How to pick rows for validation set?<br>\n",
    "![cross validation](images/cross_validation.jpg)<br>\n",
    "More: https://www.youtube.com/watch?v=fSytzGwwBVw"
   ]
  },
  {
   "cell_type": "markdown",
   "id": "9949f7b9",
   "metadata": {
    "slideshow": {
     "slide_type": "subslide"
    }
   },
   "source": [
    "### Drawback\n",
    "Training time is multiplied by number of folds"
   ]
  },
  {
   "cell_type": "markdown",
   "id": "f109f5db",
   "metadata": {
    "slideshow": {
     "slide_type": "subslide"
    }
   },
   "source": [
    "# Data Mismatch\n",
    "Say you want to create an app that identifies flower species<br>\n",
    "![flower identification](images/flower_detection.webp)"
   ]
  },
  {
   "cell_type": "markdown",
   "id": "d5ffe818",
   "metadata": {
    "slideshow": {
     "slide_type": "subslide"
    }
   },
   "source": [
    "## How do you prepare a large dataset?\n",
    "Download millions of photos from the web"
   ]
  },
  {
   "cell_type": "markdown",
   "id": "42768619",
   "metadata": {
    "slideshow": {
     "slide_type": "fragment"
    }
   },
   "source": [
    "### Drawback\n",
    "They won’t be perfectly representative of the pictures that will actually be taken using the app on a mobile device"
   ]
  },
  {
   "cell_type": "markdown",
   "id": "e3a98ad1",
   "metadata": {
    "slideshow": {
     "slide_type": "subslide"
    }
   },
   "source": [
    "Suppose you have 1000 representative pictures (that are actually taken with the app)"
   ]
  },
  {
   "cell_type": "markdown",
   "id": "01c4bdce",
   "metadata": {
    "slideshow": {
     "slide_type": "fragment"
    }
   },
   "source": [
    "In that case, the validation set and test set should be as representative as possible\n",
    "- Training set: Web images from Google\n",
    "- Validation set: Half of the representative set\n",
    "- Test set: Other half of the representative set"
   ]
  },
  {
   "cell_type": "markdown",
   "id": "03568a4b",
   "metadata": {
    "slideshow": {
     "slide_type": "fragment"
    }
   },
   "source": [
    "If you do the opposite, you won't be able to test it really. Beware of customer complaints!"
   ]
  },
  {
   "cell_type": "markdown",
   "id": "8fc6bdff",
   "metadata": {
    "slideshow": {
     "slide_type": "subslide"
    }
   },
   "source": [
    "### If your model performs badly on the validation set, what does it mean?\n",
    "- Is the model overfitting?\n",
    "- Or, is it because of the data mismatch?"
   ]
  },
  {
   "cell_type": "markdown",
   "id": "c1abdd85",
   "metadata": {
    "slideshow": {
     "slide_type": "fragment"
    }
   },
   "source": [
    "We don't know"
   ]
  },
  {
   "cell_type": "markdown",
   "id": "6c48e9a3",
   "metadata": {
    "slideshow": {
     "slide_type": "fragment"
    }
   },
   "source": [
    "### Solution: Train-Dev Set\n",
    "- Hold out some data from the trainting set - call it, train-dev set\n",
    "- If the model performs well on train-dev set but not on the test set: Its data mismatch\n",
    "- If the model performs poorly on train-dev set: Its overfitting"
   ]
  },
  {
   "cell_type": "markdown",
   "id": "8005b207",
   "metadata": {
    "slideshow": {
     "slide_type": "subslide"
    }
   },
   "source": [
    "# No Free Lunch Theorem\n",
    "Which model performs the best, a priori?"
   ]
  }
 ],
 "metadata": {
  "kernelspec": {
   "display_name": "venv",
   "language": "python",
   "name": "python3"
  },
  "language_info": {
   "name": "python",
   "version": "3.12.3"
  }
 },
 "nbformat": 4,
 "nbformat_minor": 5
}
