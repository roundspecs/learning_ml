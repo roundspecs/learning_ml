{
 "cells": [
  {
   "cell_type": "markdown",
   "id": "1c15cc60",
   "metadata": {
    "slideshow": {
     "slide_type": "slide"
    }
   },
   "source": [
    "# Types of ML Systems"
   ]
  },
  {
   "cell_type": "markdown",
   "id": "d1370d3f",
   "metadata": {
    "slideshow": {
     "slide_type": "slide"
    }
   },
   "source": [
    "# Based on Supervision"
   ]
  },
  {
   "cell_type": "markdown",
   "id": "1f52e7f1",
   "metadata": {
    "slideshow": {
     "slide_type": "fragment"
    }
   },
   "source": [
    "![Meaning of supervise](images/supervise_meaning.png)"
   ]
  },
  {
   "cell_type": "markdown",
   "id": "fbe1d259",
   "metadata": {
    "slideshow": {
     "slide_type": "subslide"
    }
   },
   "source": [
    "## Supervised Learning"
   ]
  },
  {
   "cell_type": "markdown",
   "id": "a1614d2f",
   "metadata": {
    "slideshow": {
     "slide_type": "fragment"
    }
   },
   "source": [
    "The training data is labeled\n",
    "<!-- ![Supervised Learning](images/supervised_learning.png) -->\n",
    "<img src=\"images/supervised_learning.png\" style=\"width:500px\"><br>"
   ]
  },
  {
   "cell_type": "markdown",
   "id": "8bb754b9",
   "metadata": {
    "slideshow": {
     "slide_type": "subslide"
    }
   },
   "source": [
    "### Two types:\n",
    "- **Classification**: Classifies into discrete classes\n",
    "- **Regression**: Predicts numerical value"
   ]
  },
  {
   "cell_type": "markdown",
   "id": "198e3259",
   "metadata": {
    "slideshow": {
     "slide_type": "fragment"
    }
   },
   "source": [
    "**Note**: Some *regression* algorithms (e.g. **Logistic Regression**) is used for classification"
   ]
  },
  {
   "cell_type": "markdown",
   "id": "f33f9543",
   "metadata": {
    "slideshow": {
     "slide_type": "subslide"
    }
   },
   "source": [
    "### Some supervised algorithms, we will read about:\n",
    "- k Nearest Neighbour\n",
    "- Linear Regression\n",
    "- Logistic Regression\n",
    "- SVM\n",
    "- Decision Tree & Random Forest"
   ]
  },
  {
   "cell_type": "markdown",
   "id": "4b5a70ac",
   "metadata": {
    "slideshow": {
     "slide_type": "subslide"
    }
   },
   "source": [
    "## Unsupervised Learning"
   ]
  },
  {
   "cell_type": "markdown",
   "id": "59d9dca5",
   "metadata": {
    "slideshow": {
     "slide_type": "fragment"
    }
   },
   "source": [
    "Training data is ***not*** labeled"
   ]
  },
  {
   "cell_type": "markdown",
   "id": "6b913281",
   "metadata": {
    "slideshow": {
     "slide_type": "subslide"
    }
   },
   "source": [
    "### Four Types:\n",
    "- Clustering\n",
    "- Anomaly detection\n",
    "- Visualization and dimensionality reduction\n",
    "- Association rule learning"
   ]
  },
  {
   "cell_type": "markdown",
   "id": "9d184c66",
   "metadata": {
    "slideshow": {
     "slide_type": "subslide"
    }
   },
   "source": [
    "## Semi-supervised Learning"
   ]
  },
  {
   "cell_type": "markdown",
   "id": "65e9b208",
   "metadata": {
    "slideshow": {
     "slide_type": "fragment"
    }
   },
   "source": [
    "Training data is ***partially*** labeled (usually, mostly unlabled) <br>\n",
    "Because, labeling data is quite expensive"
   ]
  },
  {
   "cell_type": "markdown",
   "id": "a52b60e4",
   "metadata": {
    "slideshow": {
     "slide_type": "subslide"
    }
   },
   "source": [
    "### Example: Google Photos\n",
    "- Recognizes similar faces and clusters them together (ideally)\n",
    "- Once the user labels the clusters, it can name everyone in every photo"
   ]
  },
  {
   "cell_type": "markdown",
   "id": "df229062",
   "metadata": {
    "slideshow": {
     "slide_type": "subslide"
    }
   },
   "source": [
    "## Reinforcement Learning"
   ]
  },
  {
   "cell_type": "markdown",
   "id": "04972903",
   "metadata": {
    "slideshow": {
     "slide_type": "fragment"
    }
   },
   "source": [
    "Very different from the other three."
   ]
  },
  {
   "cell_type": "markdown",
   "id": "2a31b307",
   "metadata": {
    "slideshow": {
     "slide_type": "subslide"
    }
   },
   "source": [
    "The agent (learning system) performs actions and gets reward (or penalties) in return. <br>\n",
    "The goal is to get most rewards. <br>\n",
    "The rewards/penalties guides the agent to choose the best strategy (called *policy*) <br>\n",
    "<img src=\"images/reinforcement_learning.png\" style=\"width:500px;\">"
   ]
  },
  {
   "cell_type": "markdown",
   "id": "371c126b",
   "metadata": {},
   "source": []
  }
 ],
 "metadata": {
  "language_info": {
   "name": "python"
  }
 },
 "nbformat": 4,
 "nbformat_minor": 5
}
