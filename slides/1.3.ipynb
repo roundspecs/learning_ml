{
 "cells": [
  {
   "cell_type": "markdown",
   "id": "1c15cc60",
   "metadata": {
    "slideshow": {
     "slide_type": "slide"
    }
   },
   "source": [
    "# Types of ML Systems"
   ]
  },
  {
   "cell_type": "markdown",
   "id": "d1370d3f",
   "metadata": {
    "slideshow": {
     "slide_type": "slide"
    }
   },
   "source": [
    "# Based on Supervision\n",
    "![Meaning of supervise](images/supervise_meaning.png)"
   ]
  },
  {
   "cell_type": "markdown",
   "id": "fbe1d259",
   "metadata": {
    "slideshow": {
     "slide_type": "subslide"
    }
   },
   "source": [
    "## Supervised Learning"
   ]
  },
  {
   "cell_type": "markdown",
   "id": "a1614d2f",
   "metadata": {
    "slideshow": {
     "slide_type": "fragment"
    }
   },
   "source": [
    "The training data is labeled\n",
    "<!-- ![Supervised Learning](images/supervised_learning.png) -->\n",
    "<img src=\"images/supervised_learning.png\" style=\"width:500px\"><br>"
   ]
  },
  {
   "cell_type": "markdown",
   "id": "8bb754b9",
   "metadata": {
    "slideshow": {
     "slide_type": "subslide"
    }
   },
   "source": [
    "### Two types:\n",
    "- **Classification**: Classifies into discrete classes\n",
    "- **Regression**: Predicts numerical value"
   ]
  },
  {
   "cell_type": "markdown",
   "id": "198e3259",
   "metadata": {
    "slideshow": {
     "slide_type": "fragment"
    }
   },
   "source": [
    "**Note**: Some *regression* algorithms (e.g. **Logistic Regression**) is used for classification"
   ]
  },
  {
   "cell_type": "markdown",
   "id": "f33f9543",
   "metadata": {
    "slideshow": {
     "slide_type": "subslide"
    }
   },
   "source": [
    "### Some supervised algorithms, we will read about:\n",
    "- k Nearest Neighbour\n",
    "- Linear Regression\n",
    "- Logistic Regression\n",
    "- SVM\n",
    "- Decision Tree & Random Forest"
   ]
  },
  {
   "cell_type": "markdown",
   "id": "4b5a70ac",
   "metadata": {
    "slideshow": {
     "slide_type": "subslide"
    }
   },
   "source": [
    "## Unsupervised Learning"
   ]
  },
  {
   "cell_type": "markdown",
   "id": "59d9dca5",
   "metadata": {
    "slideshow": {
     "slide_type": "fragment"
    }
   },
   "source": [
    "Training data is ***not*** labeled"
   ]
  },
  {
   "cell_type": "markdown",
   "id": "6b913281",
   "metadata": {
    "slideshow": {
     "slide_type": "subslide"
    }
   },
   "source": [
    "### Four Types:\n",
    "- Clustering\n",
    "- Anomaly detection\n",
    "- Visualization and dimensionality reduction\n",
    "- Association rule learning"
   ]
  },
  {
   "cell_type": "markdown",
   "id": "9d184c66",
   "metadata": {
    "slideshow": {
     "slide_type": "subslide"
    }
   },
   "source": [
    "## Semi-supervised Learning"
   ]
  },
  {
   "cell_type": "markdown",
   "id": "65e9b208",
   "metadata": {
    "slideshow": {
     "slide_type": "fragment"
    }
   },
   "source": [
    "Training data is ***partially*** labeled (usually, mostly unlabled) <br>\n",
    "Because, labeling data is quite expensive"
   ]
  },
  {
   "cell_type": "markdown",
   "id": "a52b60e4",
   "metadata": {
    "slideshow": {
     "slide_type": "subslide"
    }
   },
   "source": [
    "### Example: Google Photos\n",
    "- Recognizes similar faces and clusters them together (ideally)\n",
    "- Once the user labels the clusters, it can name everyone in every photo"
   ]
  },
  {
   "cell_type": "markdown",
   "id": "df229062",
   "metadata": {
    "slideshow": {
     "slide_type": "subslide"
    }
   },
   "source": [
    "## Reinforcement Learning"
   ]
  },
  {
   "cell_type": "markdown",
   "id": "04972903",
   "metadata": {
    "slideshow": {
     "slide_type": "fragment"
    }
   },
   "source": [
    "Very different from the other three."
   ]
  },
  {
   "cell_type": "markdown",
   "id": "2a31b307",
   "metadata": {
    "slideshow": {
     "slide_type": "subslide"
    }
   },
   "source": [
    "The agent (learning system) performs actions and gets reward (or penalties) in return. <br>\n",
    "The goal is to get most rewards. <br>\n",
    "The rewards/penalties guides the agent to choose the best strategy (called *policy*) <br>\n",
    "<img src=\"images/reinforcement_learning.png\" style=\"width:500px;\">"
   ]
  },
  {
   "cell_type": "markdown",
   "id": "371c126b",
   "metadata": {
    "slideshow": {
     "slide_type": "slide"
    }
   },
   "source": [
    "# Based on Training\n",
    "Can it learn incrementally from a stream of data?"
   ]
  },
  {
   "cell_type": "markdown",
   "id": "d381e14b",
   "metadata": {
    "slideshow": {
     "slide_type": "subslide"
    }
   },
   "source": [
    "### Example of Online Algorithm"
   ]
  },
  {
   "cell_type": "code",
   "execution_count": 4,
   "id": "dd8b25e2",
   "metadata": {
    "slideshow": {
     "slide_type": "fragment"
    }
   },
   "outputs": [
    {
     "name": "stdout",
     "output_type": "stream",
     "text": [
      "Current Average: 4.0\n",
      "Current Average: 3.5\n",
      "Current Average: 3.0\n"
     ]
    }
   ],
   "source": [
    "def online_avg():\n",
    "  average = 0\n",
    "  count = 0\n",
    "  while True:\n",
    "    try:\n",
    "      n = int(input(\"Enter the next number:\"))\n",
    "      sum = average * count + n\n",
    "      count += 1\n",
    "      average = sum / count\n",
    "      print(f\"Current Average: {average}\")\n",
    "    except ValueError:\n",
    "      break\n",
    "\n",
    "online_avg() # input: 4 3 2"
   ]
  },
  {
   "cell_type": "markdown",
   "id": "274dd4d6",
   "metadata": {
    "slideshow": {
     "slide_type": "subslide"
    }
   },
   "source": [
    "### Example of Offline Algorithm"
   ]
  },
  {
   "cell_type": "code",
   "execution_count": null,
   "id": "2f5f05c7",
   "metadata": {
    "slideshow": {
     "slide_type": "fragment"
    }
   },
   "outputs": [
    {
     "name": "stdout",
     "output_type": "stream",
     "text": [
      "Average: 3.0\n"
     ]
    }
   ],
   "source": [
    "def offline_avg():\n",
    "  nums = [int(x) for x in input(\"Numbers (space separated): \").split()]\n",
    "  print(f\"Average: {sum(nums)/len(nums)}\")\n",
    "\n",
    "offline_avg() # input: 4 3 2"
   ]
  },
  {
   "cell_type": "markdown",
   "id": "a8cc5ae9",
   "metadata": {
    "slideshow": {
     "slide_type": "subslide"
    }
   },
   "source": [
    "## Batch Learning\n",
    "- First the system is trained\n",
    "- Then it's launched in production\n",
    "- In production it does not learn anymore. It just applies what it learned"
   ]
  },
  {
   "cell_type": "markdown",
   "id": "1ad12dc2",
   "metadata": {
    "slideshow": {
     "slide_type": "subslide"
    }
   },
   "source": [
    "### What if you want to train on new data?\n",
    "- You have a new system from scratch on full dataset (not just the new data, but *also the old data*)\n",
    "- Stop the old system and replace it with the new one."
   ]
  },
  {
   "cell_type": "markdown",
   "id": "50c2240b",
   "metadata": {
    "slideshow": {
     "slide_type": "subslide"
    }
   },
   "source": [
    "### Problems\n",
    "- Trainig on the full dataset is expensive (sometimes impossible)\n",
    "- Since it's expensive, training is done once in a day or week. So, it is of no use in rapidly changing dataset (e.g. stock price)\n",
    "- If the system needs to learn autonomously and has limited resources (e.g. mars rover) storing a full dataset is not feasible"
   ]
  },
  {
   "cell_type": "markdown",
   "id": "4280fcde",
   "metadata": {
    "slideshow": {
     "slide_type": "subslide"
    }
   },
   "source": [
    "## Online Learning\n",
    "The name is a bit misleading. So, we should call it ***increamental learning***\n",
    "\n",
    "The system is trained increamentally by feeding data instances sequentially, either individually or in small groups (called mini-batches)"
   ]
  },
  {
   "cell_type": "markdown",
   "id": "176bdcb5",
   "metadata": {
    "slideshow": {
     "slide_type": "subslide"
    }
   },
   "source": [
    "### Out-of-core Learning\n",
    "If the dataset is so huge that it does not fit in the machine's main (core) memory, increamental learning algorithms are used.\n",
    "\n",
    "Out-of-core learning is usually done offline. Which is why the name *online* learning is misleading."
   ]
  },
  {
   "cell_type": "markdown",
   "id": "c76f3136",
   "metadata": {
    "slideshow": {
     "slide_type": "subslide"
    }
   },
   "source": [
    "### Learning rate\n",
    "Learning rate is a parameter of increamental learning that determines how fast the system should adapt to new changes\n",
    "- If it's too high, the system will rapidly adapt to new data, but quickly forget old data\n",
    "- If it's too low, the system will learn slowly"
   ]
  },
  {
   "cell_type": "markdown",
   "id": "10d8c3c0",
   "metadata": {
    "slideshow": {
     "slide_type": "slide"
    }
   },
   "source": [
    "# Based on Approach to Generalization\n",
    "How does the model predict on never-before-seen data?"
   ]
  },
  {
   "cell_type": "markdown",
   "id": "d531e8f1",
   "metadata": {
    "slideshow": {
     "slide_type": "subslide"
    }
   },
   "source": [
    "## Instance-based Learning\n",
    "- The system learns the training set by heart\n",
    "- When it encounters never-before-seen data, it compares them to the learned examples (or a subset of them) using some ***similarity measure***"
   ]
  },
  {
   "cell_type": "markdown",
   "id": "f395cde3",
   "metadata": {
    "slideshow": {
     "slide_type": "subslide"
    }
   },
   "source": [
    "### Example\n",
    "![Instance-based Learning](images/instance_based_learning.png)<br>\n",
    "The new instance will be classified as a triangle because the majority of the most similar instances belong to that class"
   ]
  },
  {
   "cell_type": "markdown",
   "id": "9d63f6b4",
   "metadata": {
    "slideshow": {
     "slide_type": "subslide"
    }
   },
   "source": [
    "### Similarity Measure\n",
    "These algorithms rely on a measure of similarity.\n",
    "\n",
    "**Example: Spam Filter**<br>\n",
    "A very basic similariy measure for two emails would be the count of identical words"
   ]
  }
 ],
 "metadata": {
  "kernelspec": {
   "display_name": "venv",
   "language": "python",
   "name": "python3"
  },
  "language_info": {
   "codemirror_mode": {
    "name": "ipython",
    "version": 3
   },
   "file_extension": ".py",
   "mimetype": "text/x-python",
   "name": "python",
   "nbconvert_exporter": "python",
   "pygments_lexer": "ipython3",
   "version": "3.12.3"
  }
 },
 "nbformat": 4,
 "nbformat_minor": 5
}
