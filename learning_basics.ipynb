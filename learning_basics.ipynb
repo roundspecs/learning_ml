{
 "cells": [
  {
   "cell_type": "markdown",
   "id": "222a3090",
   "metadata": {},
   "source": [
    "# Learning Python Virtual Environment"
   ]
  },
  {
   "cell_type": "markdown",
   "id": "5a85dad6",
   "metadata": {},
   "source": [
    "To see the list of pip packages\n",
    "```sh\n",
    "pip list\n",
    "```"
   ]
  },
  {
   "cell_type": "markdown",
   "id": "31a3e5cb",
   "metadata": {},
   "source": [
    "To install a package with python\n",
    "```sh\n",
    "pip install <package_name>\n",
    "```"
   ]
  },
  {
   "cell_type": "markdown",
   "id": "db1cf769",
   "metadata": {},
   "source": [
    "To uninstall package\n",
    "```sh\n",
    "pip uninstall <package_name>"
   ]
  },
  {
   "cell_type": "markdown",
   "id": "2f94f006",
   "metadata": {},
   "source": [
    "To create a new python virtual environment\n",
    "```sh\n",
    "python -m venv <env_name>\n",
    "```"
   ]
  },
  {
   "cell_type": "markdown",
   "id": "d780078b",
   "metadata": {},
   "source": [
    "To activate a virtual environment\n",
    "```sh\n",
    "source <env_name>/Script/activate\n",
    "```"
   ]
  },
  {
   "cell_type": "markdown",
   "id": "b24e2d2a",
   "metadata": {},
   "source": [
    "To deactivate\n",
    "```sh\n",
    "deactivate\n",
    "```"
   ]
  },
  {
   "cell_type": "markdown",
   "id": "8e29ad7b",
   "metadata": {},
   "source": [
    "# Learning Git"
   ]
  },
  {
   "cell_type": "markdown",
   "id": "54836cfc",
   "metadata": {},
   "source": []
  }
 ],
 "metadata": {
  "language_info": {
   "name": "python"
  }
 },
 "nbformat": 4,
 "nbformat_minor": 5
}
